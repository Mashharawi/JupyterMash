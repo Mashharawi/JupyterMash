{
 "cells": [
  {
   "cell_type": "code",
   "execution_count": 1,
   "metadata": {},
   "outputs": [
    {
     "name": "stdin",
     "output_type": "stream",
     "text": [
      "Enter no of synonyms 3\n",
      "Enter the word q\n",
      "Enter the synonym qq\n",
      "Enter the word a\n",
      "Enter the synonym aa\n",
      "Enter the word z\n",
      "Enter the synonym zz\n"
     ]
    },
    {
     "name": "stdout",
     "output_type": "stream",
     "text": [
      "['q', 'qq', 'a', 'aa', 'z', 'zz']\n"
     ]
    }
   ],
   "source": [
    "no_of_synonyms = int(input(\"Enter no of synonyms\"))\n",
    "synonyms_dic={}\n",
    "ls=[]\n",
    "for j in range(no_of_synonyms):\n",
    "    word=input(\"Enter the word\")\n",
    "    synonym=input(\"Enter the synonym\")\n",
    "    ls.append(word)\n",
    "    ls.append(synonym)\n",
    "print(ls)\n",
    "        #ls.append(random.randint(1, 10000)) \n"
   ]
  },
  {
   "cell_type": "code",
   "execution_count": 3,
   "metadata": {},
   "outputs": [
    {
     "name": "stdout",
     "output_type": "stream",
     "text": [
      "['q', 'qq', 'a', 'aa', 'z', 'zz']\n",
      "{'q': 'qq', 'a': 'aa', 'z': 'zz'}\n"
     ]
    }
   ],
   "source": [
    "print(ls)\n",
    "for i in range(len(ls)):\n",
    "    synonyms_dic = { ls[i] : ls[i+1] for i in range(0, len(ls)-1,2 ) }\n",
    "print(synonyms_dic)"
   ]
  },
  {
   "cell_type": "code",
   "execution_count": 20,
   "metadata": {},
   "outputs": [
    {
     "name": "stdin",
     "output_type": "stream",
     "text": [
      "Enter the word to check zz\n"
     ]
    },
    {
     "name": "stdout",
     "output_type": "stream",
     "text": [
      "z\n"
     ]
    }
   ],
   "source": [
    "check_synonym = input(\"Enter the word to check\")\n",
    "if check_synonym in synonyms_dic.keys():\n",
    "    print (synonyms_dic[check_synonym])\n",
    "elif check_synonym in synonyms_dic.values():\n",
    "    print(list(synonyms_dic.keys())[list(synonyms_dic.values()).index(check_synonym)])\n",
    "    \n",
    "else:\n",
    "    print(\"Not Excist\")"
   ]
  },
  {
   "cell_type": "code",
   "execution_count": 12,
   "metadata": {},
   "outputs": [
    {
     "name": "stdout",
     "output_type": "stream",
     "text": [
      "list(synonyms_dic.keys() ['q', 'a', 'z']\n",
      "list(synonyms_dic.values() ['qq', 'aa', 'zz']\n",
      "synonyms_dic.values()).index(check_synonym 1\n"
     ]
    }
   ],
   "source": [
    "x=list(synonyms_dic.keys())\n",
    "print(\"list(synonyms_dic.keys()\", x)\n",
    "y=list(synonyms_dic.values())\n",
    "print(\"list(synonyms_dic.values()\", y)\n",
    "z=list(synonyms_dic.values()).index(check_synonym)\n",
    "print(\"synonyms_dic.values()).index(check_synonym\", z)\n",
    "\n"
   ]
  },
  {
   "cell_type": "code",
   "execution_count": 18,
   "metadata": {},
   "outputs": [
    {
     "name": "stdout",
     "output_type": "stream",
     "text": [
      "[<filter object at 0x000001CBF172A7B8>]\n"
     ]
    }
   ],
   "source": [
    "keys = [filter( lambda x: synonyms_dic[check_synonym] == k  , synonyms_dic )]\n",
    "print(keys)"
   ]
  },
  {
   "cell_type": "code",
   "execution_count": 19,
   "metadata": {},
   "outputs": [
    {
     "name": "stdout",
     "output_type": "stream",
     "text": [
      "[('q', 'qq'), ('a', 'aa'), ('z', 'zz')]\n"
     ]
    }
   ],
   "source": [
    "print([(k, synonyms_dic[k]) for k in synonyms_dic]) "
   ]
  },
  {
   "cell_type": "code",
   "execution_count": null,
   "metadata": {},
   "outputs": [],
   "source": []
  }
 ],
 "metadata": {
  "kernelspec": {
   "display_name": "Python 3",
   "language": "python",
   "name": "python3"
  },
  "language_info": {
   "codemirror_mode": {
    "name": "ipython",
    "version": 3
   },
   "file_extension": ".py",
   "mimetype": "text/x-python",
   "name": "python",
   "nbconvert_exporter": "python",
   "pygments_lexer": "ipython3",
   "version": "3.6.5"
  }
 },
 "nbformat": 4,
 "nbformat_minor": 4
}
